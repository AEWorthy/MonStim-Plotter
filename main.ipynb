{
 "cells": [
  {
   "cell_type": "code",
   "execution_count": null,
   "id": "93f2219f",
   "metadata": {},
   "outputs": [],
   "source": [
    "from plot_emg import plot_emg_trace"
   ]
  },
  {
   "cell_type": "code",
   "execution_count": 12,
   "id": "a4ccd33f",
   "metadata": {},
   "outputs": [
    {
     "name": "stdout",
     "output_type": "stream",
     "text": [
      "Saved EMG trace to emg_accent.png\n"
     ]
    }
   ],
   "source": [
    "plot_emg_trace(\n",
    "    \"pretty waveform 1.csv\",\n",
    "    tmin=-1,\n",
    "    tmax=7,\n",
    "    recording_index=0,\n",
    "    channel_index=1,\n",
    "    color=\"#FFD700\",      # your hex / named color\n",
    "    linewidth=2.0,\n",
    "    figsize=(12,3),\n",
    "    dpi=200,\n",
    "    output_file=\"emg_accent.png\"\n",
    ")"
   ]
  },
  {
   "cell_type": "code",
   "execution_count": 13,
   "id": "267fce0f",
   "metadata": {},
   "outputs": [
    {
     "name": "stdout",
     "output_type": "stream",
     "text": [
      "Saved EMG trace to emg_all_inferno.png\n"
     ]
    }
   ],
   "source": [
    "plot_emg_trace(\n",
    "    \"pretty waveform 1.csv\",\n",
    "    overlay=True,\n",
    "    channel_index=1,\n",
    "    stim_col=\"stimulus_V\",\n",
    "    cmap_name=\"inferno\",\n",
    "    show_colorbar=False,\n",
    "    tmin=-4,    # start at 0 ms\n",
    "    tmax=10,   # to 30 ms\n",
    "    output_file=\"emg_all_inferno.png\"\n",
    ")"
   ]
  },
  {
   "cell_type": "code",
   "execution_count": 14,
   "id": "2a301bb9",
   "metadata": {},
   "outputs": [
    {
     "name": "stdout",
     "output_type": "stream",
     "text": [
      "Saved EMG trace to emg_all_cool.png\n"
     ]
    }
   ],
   "source": [
    "plot_emg_trace(\n",
    "    \"pretty waveform 1.csv\",\n",
    "    overlay=True,\n",
    "    channel_index=1,\n",
    "    stim_col=\"stimulus_V\",\n",
    "    cmap_name=\"plasma\",\n",
    "    show_colorbar=False,\n",
    "    tmin=-4,\n",
    "    tmax=10,\n",
    "    output_file=\"emg_all_cool.png\"\n",
    ")"
   ]
  },
  {
   "cell_type": "code",
   "execution_count": 15,
   "id": "e0a06418",
   "metadata": {},
   "outputs": [
    {
     "name": "stdout",
     "output_type": "stream",
     "text": [
      "Saved EMG trace to emg_all_inferno2.png\n"
     ]
    }
   ],
   "source": [
    "plot_emg_trace(\n",
    "    \"pretty waveform 2.csv\",\n",
    "    overlay=True,\n",
    "    channel_index=1,\n",
    "    stim_col=\"stimulus_V\",\n",
    "    cmap_name=\"inferno\",\n",
    "    show_colorbar=False,\n",
    "    tmin=-4,    # start at 0 ms\n",
    "    tmax=10,   # to 30 ms\n",
    "    output_file=\"emg_all_inferno2.png\"\n",
    ")"
   ]
  }
 ],
 "metadata": {
  "kernelspec": {
   "display_name": "alv_lab",
   "language": "python",
   "name": "python3"
  },
  "language_info": {
   "codemirror_mode": {
    "name": "ipython",
    "version": 3
   },
   "file_extension": ".py",
   "mimetype": "text/x-python",
   "name": "python",
   "nbconvert_exporter": "python",
   "pygments_lexer": "ipython3",
   "version": "3.12.3"
  }
 },
 "nbformat": 4,
 "nbformat_minor": 5
}
