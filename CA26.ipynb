{
 "cells": [
  {
   "cell_type": "code",
   "execution_count": 1,
   "id": "ed38b0cb",
   "metadata": {},
   "outputs": [],
   "source": [
    "from plot_emg import plot_emg_trace"
   ]
  },
  {
   "cell_type": "code",
   "execution_count": 2,
   "id": "c9f4ce03",
   "metadata": {},
   "outputs": [
    {
     "name": "stdout",
     "output_type": "stream",
     "text": [
      "Saved EMG trace to output/emg_all.png\n",
      "Saved axes plot to output/emg_all_axes.svg\n"
     ]
    }
   ],
   "source": [
    "# PLot all data\n",
    "plot_emg_trace(\n",
    "    \"CA26 BKH3 LG Sciatic Laser.csv\",\n",
    "    overlay=True,\n",
    "    channel_index=0,\n",
    "    stim_col=\"stimulus_V\",\n",
    "    cmap_name=\"inferno_r\", # use a monotonic colormap\n",
    "    show_colorbar=False,\n",
    "    tmin=-5,\n",
    "    tmax=60,\n",
    "    output_file=\"output/emg_all.png\",\n",
    "    fixed_y=True,\n",
    "    create_axes=True\n",
    ")"
   ]
  },
  {
   "cell_type": "code",
   "execution_count": 3,
   "id": "2f5ddedc",
   "metadata": {},
   "outputs": [
    {
     "name": "stdout",
     "output_type": "stream",
     "text": [
      "Saved EMG trace to output/recording 38.png\n",
      "Saved axes plot to output/recording 38_axes.svg\n"
     ]
    }
   ],
   "source": [
    "# Recording 38 - low stim 0.95V\n",
    "plot_emg_trace(\n",
    "    \"CA26 BKH3 LG Sciatic Laser.csv\",\n",
    "    tmin=-5,\n",
    "    tmax=60,\n",
    "    recording_index=38,\n",
    "    channel_index=0,\n",
    "    color=\"#000000\",      # your hex / named color\n",
    "    linewidth=2.0,\n",
    "    figsize=(12,3),\n",
    "    dpi=200,\n",
    "    output_file=\"output/recording 38.png\",\n",
    "    fixed_y=True,\n",
    "    create_axes=True\n",
    ")"
   ]
  },
  {
   "cell_type": "code",
   "execution_count": 4,
   "id": "09d1ac55",
   "metadata": {},
   "outputs": [
    {
     "name": "stdout",
     "output_type": "stream",
     "text": [
      "Saved EMG trace to output/recording 85.png\n",
      "Saved axes plot to output/recording 85_axes.svg\n"
     ]
    }
   ],
   "source": [
    "# Recording 38 - high stim 3V\n",
    "plot_emg_trace(\n",
    "    \"CA26 BKH3 LG Sciatic Laser.csv\",\n",
    "    tmin=-5,\n",
    "    tmax=60,\n",
    "    recording_index=85,\n",
    "    channel_index=0,\n",
    "    color=\"#000000\",      # your hex / named color\n",
    "    linewidth=2.0,\n",
    "    figsize=(12,3),\n",
    "    dpi=200,\n",
    "    output_file=\"output/recording 85.png\",\n",
    "    fixed_y=True,\n",
    "    create_axes=True\n",
    ")"
   ]
  }
 ],
 "metadata": {
  "kernelspec": {
   "display_name": "alv_lab",
   "language": "python",
   "name": "python3"
  },
  "language_info": {
   "codemirror_mode": {
    "name": "ipython",
    "version": 3
   },
   "file_extension": ".py",
   "mimetype": "text/x-python",
   "name": "python",
   "nbconvert_exporter": "python",
   "pygments_lexer": "ipython3",
   "version": "3.12.3"
  }
 },
 "nbformat": 4,
 "nbformat_minor": 5
}
